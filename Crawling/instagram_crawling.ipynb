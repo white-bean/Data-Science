{
 "cells": [
  {
   "cell_type": "markdown",
   "metadata": {},
   "source": [
    "### 인스타그램 최근 6개 게시물 크롤링해 csv로 저장하기"
   ]
  },
  {
   "cell_type": "code",
   "execution_count": 116,
   "metadata": {},
   "outputs": [],
   "source": [
    "import requests\n",
    "from bs4 import BeautifulSoup\n",
    "import time\n",
    "\n",
    "from selenium import webdriver\n",
    "from selenium.webdriver.common.keys import Keys"
   ]
  },
  {
   "cell_type": "code",
   "execution_count": 148,
   "metadata": {},
   "outputs": [],
   "source": [
    "driver = webdriver.Chrome('C:/Users/jiddo/Downloads/chromedriver')\n",
    "driver.get('https://www.instagram.com/')"
   ]
  },
  {
   "cell_type": "code",
   "execution_count": 149,
   "metadata": {},
   "outputs": [],
   "source": [
    "# 로그인\n",
    "id_='인스타그램 아이디'\n",
    "password_ = '인스타그램 비밀번호'\n",
    "\n",
    "ID = driver.find_elements_by_css_selector(\"input\")[0]\n",
    "ID.send_keys(id_)\n",
    "\n",
    "PW = driver.find_elements_by_css_selector(\"input\")[1]\n",
    "PW.send_keys(password_)"
   ]
  },
  {
   "cell_type": "code",
   "execution_count": 150,
   "metadata": {},
   "outputs": [],
   "source": [
    "PW.submit()"
   ]
  },
  {
   "cell_type": "code",
   "execution_count": 151,
   "metadata": {},
   "outputs": [],
   "source": [
    "# 로그인 정보를 저장하시겠어요? 팝업창에서 나중에 하기 누르기\n",
    "driver.find_element_by_css_selector(\"#react-root > section > main > div > div > div > div > button\").click()"
   ]
  },
  {
   "cell_type": "code",
   "execution_count": 152,
   "metadata": {},
   "outputs": [],
   "source": [
    "# 알림 설정 팝업에서 나중에 하기 누르기\n",
    "driver.find_element_by_css_selector(\"body > div.RnEpo.Yx5HN > div > div > div > div.mt3GC > button.aOOlW.HoLwm\").click()"
   ]
  },
  {
   "cell_type": "code",
   "execution_count": 132,
   "metadata": {},
   "outputs": [],
   "source": [
    "# 검색창에 비타민 검색\n",
    "search = driver.find_element_by_css_selector(\"#react-root > section > nav > div._8MQSO.Cx7Bp > div > div > div.LWmhU._0aCwM > input\")\n",
    "search.send_keys(\"bitamin_official\")"
   ]
  },
  {
   "cell_type": "code",
   "execution_count": 133,
   "metadata": {},
   "outputs": [],
   "source": [
    "driver.find_element_by_class_name(\"-qQT3\").click()"
   ]
  },
  {
   "cell_type": "code",
   "execution_count": 140,
   "metadata": {},
   "outputs": [],
   "source": [
    "# 첫 번째 게시글 클릭하기\n",
    "driver.find_element_by_class_name(\"_9AhH0\").click()"
   ]
  },
  {
   "cell_type": "code",
   "execution_count": 141,
   "metadata": {},
   "outputs": [],
   "source": [
    "# 최근 6개 게시글 내용 가져오기\n",
    "contents = []\n",
    "\n",
    "for i in range(6):\n",
    "    time.sleep(2)\n",
    "    \n",
    "    html = driver.page_source\n",
    "    soup = BeautifulSoup(html, 'html.parser')\n",
    "    \n",
    "    content = soup.select('div.C4VMK > span')[0].text\n",
    "    contents.append(content)\n",
    "    \n",
    "    # 다음 게시판으로 넘어가기\n",
    "    driver.find_element_by_css_selector('body > div._2dDPU.CkGkG > div.EfHg9 > div > div > a._65Bje.coreSpriteRightPaginationArrow').click()\n"
   ]
  },
  {
   "cell_type": "code",
   "execution_count": 142,
   "metadata": {},
   "outputs": [
    {
     "data": {
      "text/plain": [
       "[\"🎉 2월 20일 세션 공지 🎉이번 주 세션을 공지합니다👋이번 주 6기는 '웹 크롤링' 이라는 주제로 교육부에서 세션을 진행할 예정입니다😆7기는 머신러닝과 데이터 분석에 필요한 파이썬을 다루는 '분석프로그래밍 1' 그리고머신러닝을 하기위해 필요한 수학 개념을 다루는 '머신러닝을 위한 수학' 을 주제로 세션을 교육부에서 진행할 예정입니다😁코로나로 인한 거리두기로 인해 온라인 줌으로진행될 예정입니다😉7기는 이번 주 첫 세션이라 설레이실 것 같아요🤗저도 마찬가지로 여러분들과 함께 수업을 들을 생각에 두근두근한답니다😊그럼 저희 건강한 모습으로토요일에 만나요🤗🤗\",\n",
       " '🍊비타민 2021-1학기 자율세션🍊오늘부터 비타민 2021년도 1학기 자율세션 신청이 오픈되었습니다!비타민 전 기수 대상으로 진행되며, 온라인으로 진행될 예정이니 많은 신청 부탁드립니다😊신청은 비타민 카페 ‘기수 통합 게시판’에서 댓글로 해주시면 됩니다.❣️ 이제는 알아야 할 Tableau 시각화일시: 2021년 2월 20일 토요일 12시 30분발표자: 비타민 4기❣️RNN 이론일시: 2021년 2월 27일 토요일 12시 30분발표자: 비타민 5기 교육 이정민',\n",
       " '2월 6일 종강총회2월 6일에 비타민 5기와 6기의 종강총회가 있었습니다!사회적 거리두기로 인해 모두가 함께 모이지는 못했지만 대표로 5기와 6기의 운영진들이 각각 스터디룸에 모여 종강총회을 진행했습니다☺️먼저 5기! 1년 동안 고생 많으셨습니다!👏👏6기는 한 학기 고생 많으셨고 앞으로도 같이 고생해요👏👏상황이 상황인지라 같이 모일 수 있는 날이 몇 없어서 아쉬웠지만 그럼에도 불구하고 안전하게 동아리 활동 잘 할 수 있어서 다행이었습니다😊새로 뽑힌 6기 회장과 함께 더욱 발전할 비타민의 앞날을 기대합니다🧡',\n",
       " '[면접 공지]안녕하세요, 비타민 운영진입니다.오늘 낮에 비타민 카페에 6기 편입 및 7기 면접 대상자 공지가 올라왔습니다. 역대 최고 경쟁률로 정말 많은 분들이 지원해주셨음에도 모든 분들을 모시지 못한 점 양해 부탁드립니다.코딩 테스트 참석자에 한해 일괄 문자가 전송되었으니, 문자를 받지 못한 분들께서는 DM 주시기 바랍니다.다시 한번 감사의 말씀 드립니다.',\n",
       " '🍊2월 6일 종강총회🍊이번 주는 5, 6기가 같이 모일 수 있는 마지막 날인데요😭바로바로 ‘온라인 종강총회’입니다!마지막까지 온라인으로 만나게 되어 너무나도 아쉽지만 모두 각자의 안전한 장소에서 만나요🙌🧡',\n",
       " '1월 30일 세션이번주는 이번 학기의 마지막 세션이 진행되었습니다!5기는 비타민의 꽃🌸 컨퍼런스를 진행했습니다 😆6기는 ‘회귀모델 part 2’의 주제로 마지막 세션과 함께 복습 프로젝트 발표를 진행했습니다 😆종강총회에서 만나요🙌']"
      ]
     },
     "execution_count": 142,
     "metadata": {},
     "output_type": "execute_result"
    }
   ],
   "source": [
    "contents"
   ]
  },
  {
   "cell_type": "code",
   "execution_count": 143,
   "metadata": {},
   "outputs": [
    {
     "data": {
      "text/plain": [
       "6"
      ]
     },
     "execution_count": 143,
     "metadata": {},
     "output_type": "execute_result"
    }
   ],
   "source": [
    "len(contents)"
   ]
  },
  {
   "cell_type": "code",
   "execution_count": 144,
   "metadata": {},
   "outputs": [],
   "source": [
    "import pandas as pd\n",
    "import csv"
   ]
  },
  {
   "cell_type": "code",
   "execution_count": 145,
   "metadata": {
    "scrolled": true
   },
   "outputs": [
    {
     "data": {
      "text/html": [
       "<div>\n",
       "<style scoped>\n",
       "    .dataframe tbody tr th:only-of-type {\n",
       "        vertical-align: middle;\n",
       "    }\n",
       "\n",
       "    .dataframe tbody tr th {\n",
       "        vertical-align: top;\n",
       "    }\n",
       "\n",
       "    .dataframe thead th {\n",
       "        text-align: right;\n",
       "    }\n",
       "</style>\n",
       "<table border=\"1\" class=\"dataframe\">\n",
       "  <thead>\n",
       "    <tr style=\"text-align: right;\">\n",
       "      <th></th>\n",
       "      <th>게시글</th>\n",
       "    </tr>\n",
       "  </thead>\n",
       "  <tbody>\n",
       "    <tr>\n",
       "      <th>0</th>\n",
       "      <td>🎉 2월 20일 세션 공지 🎉이번 주 세션을 공지합니다👋이번 주 6기는 '웹 크롤링...</td>\n",
       "    </tr>\n",
       "    <tr>\n",
       "      <th>1</th>\n",
       "      <td>🍊비타민 2021-1학기 자율세션🍊오늘부터 비타민 2021년도 1학기 자율세션 신청...</td>\n",
       "    </tr>\n",
       "    <tr>\n",
       "      <th>2</th>\n",
       "      <td>2월 6일 종강총회2월 6일에 비타민 5기와 6기의 종강총회가 있었습니다!사회적 거...</td>\n",
       "    </tr>\n",
       "    <tr>\n",
       "      <th>3</th>\n",
       "      <td>[면접 공지]안녕하세요, 비타민 운영진ᄋ...</td>\n",
       "    </tr>\n",
       "    <tr>\n",
       "      <th>4</th>\n",
       "      <td>🍊2월 6일 종강총회🍊이번 주는 5, 6기가 같이 모일 수 있는 마지막 날인데요😭바...</td>\n",
       "    </tr>\n",
       "    <tr>\n",
       "      <th>5</th>\n",
       "      <td>1월 30일 세션이번주는 이번 학기의 마지막 세션이 진행되었습니다!5기는 비타민의 ...</td>\n",
       "    </tr>\n",
       "  </tbody>\n",
       "</table>\n",
       "</div>"
      ],
      "text/plain": [
       "                                                 게시글\n",
       "0  🎉 2월 20일 세션 공지 🎉이번 주 세션을 공지합니다👋이번 주 6기는 '웹 크롤링...\n",
       "1  🍊비타민 2021-1학기 자율세션🍊오늘부터 비타민 2021년도 1학기 자율세션 신청...\n",
       "2  2월 6일 종강총회2월 6일에 비타민 5기와 6기의 종강총회가 있었습니다!사회적 거...\n",
       "3  [면접 공지]안녕하세요, 비타민 운영진ᄋ...\n",
       "4  🍊2월 6일 종강총회🍊이번 주는 5, 6기가 같이 모일 수 있는 마지막 날인데요😭바...\n",
       "5  1월 30일 세션이번주는 이번 학기의 마지막 세션이 진행되었습니다!5기는 비타민의 ..."
      ]
     },
     "execution_count": 145,
     "metadata": {},
     "output_type": "execute_result"
    }
   ],
   "source": [
    "Contents = pd.DataFrame(contents)\n",
    "Contents.columns = ['게시글']\n",
    "Contents"
   ]
  },
  {
   "cell_type": "code",
   "execution_count": 146,
   "metadata": {
    "scrolled": true
   },
   "outputs": [],
   "source": [
    "Contents.to_csv('bitamin_insta_Top6.csv', encoding='utf-8-sig')"
   ]
  },
  {
   "cell_type": "code",
   "execution_count": 147,
   "metadata": {},
   "outputs": [],
   "source": [
    "title = 'bitamin_insta_Top6_1'\n",
    "f = open(f'{title}.csv', 'w', encoding='utf-8-sig', newline='')\n",
    "csvWriter = csv.writer(f)\n",
    "for i in contents:\n",
    "    #print(i)\n",
    "    csvWriter.writerow(i)\n",
    "f.close()"
   ]
  },
  {
   "cell_type": "code",
   "execution_count": null,
   "metadata": {},
   "outputs": [],
   "source": []
  }
 ],
 "metadata": {
  "kernelspec": {
   "display_name": "Python 3",
   "language": "python",
   "name": "python3"
  },
  "language_info": {
   "codemirror_mode": {
    "name": "ipython",
    "version": 3
   },
   "file_extension": ".py",
   "mimetype": "text/x-python",
   "name": "python",
   "nbconvert_exporter": "python",
   "pygments_lexer": "ipython3",
   "version": "3.8.3"
  }
 },
 "nbformat": 4,
 "nbformat_minor": 4
}

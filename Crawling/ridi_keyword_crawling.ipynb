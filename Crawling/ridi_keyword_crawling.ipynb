{
 "cells": [
  {
   "cell_type": "code",
   "execution_count": 51,
   "id": "6600c555",
   "metadata": {},
   "outputs": [],
   "source": [
    "import requests\n",
    "from bs4 import BeautifulSoup\n",
    "import time\n",
    "\n",
    "from selenium import webdriver\n",
    "from selenium.webdriver.common.keys import Keys\n",
    "\n",
    "import warnings\n",
    "warnings.filterwarnings(action='ignore')\n",
    "\n",
    "import pandas as pd\n",
    "import numpy as np"
   ]
  },
  {
   "cell_type": "code",
   "execution_count": 7,
   "id": "c467be86",
   "metadata": {},
   "outputs": [],
   "source": [
    "driver = webdriver.Chrome('chromedriver.exe')\n",
    "driver.get('https://ridibooks.com/keyword-finder/romance?order=recent&page=1&set_id=1')"
   ]
  },
  {
   "cell_type": "code",
   "execution_count": 8,
   "id": "a4f8f3c4",
   "metadata": {},
   "outputs": [],
   "source": [
    "html = driver.page_source"
   ]
  },
  {
   "cell_type": "code",
   "execution_count": 10,
   "id": "5bc93fae",
   "metadata": {},
   "outputs": [],
   "source": [
    "soup = BeautifulSoup(html, 'html.parser')"
   ]
  },
  {
   "cell_type": "code",
   "execution_count": 34,
   "id": "4b653f0e",
   "metadata": {},
   "outputs": [],
   "source": [
    "notices = soup.select('div.MainCategory')"
   ]
  },
  {
   "cell_type": "code",
   "execution_count": 48,
   "id": "038186b0",
   "metadata": {},
   "outputs": [],
   "source": [
    "keyword = dict()\n",
    "for notice in notices:\n",
    "    alists = notice.select('li.KeywordList')\n",
    "    tmp = []\n",
    "    for alist in alists:\n",
    "        tmp.append(alist.text)\n",
    "    keyword[notice.select_one('h2.Group_Header').text] = tmp"
   ]
  },
  {
   "cell_type": "code",
   "execution_count": 57,
   "id": "f925db8a",
   "metadata": {},
   "outputs": [],
   "source": [
    "keyword = pd.DataFrame({k:pd.Series(v) for k,v in keyword.items()})\n",
    "keyword = keyword.fillna(\"\")\n",
    "keyword.to_csv('keyword.csv', index=False)"
   ]
  },
  {
   "cell_type": "code",
   "execution_count": null,
   "id": "47f287a1",
   "metadata": {},
   "outputs": [],
   "source": []
  }
 ],
 "metadata": {
  "kernelspec": {
   "display_name": "Python 3",
   "language": "python",
   "name": "python3"
  },
  "language_info": {
   "codemirror_mode": {
    "name": "ipython",
    "version": 3
   },
   "file_extension": ".py",
   "mimetype": "text/x-python",
   "name": "python",
   "nbconvert_exporter": "python",
   "pygments_lexer": "ipython3",
   "version": "3.8.8"
  }
 },
 "nbformat": 4,
 "nbformat_minor": 5
}
